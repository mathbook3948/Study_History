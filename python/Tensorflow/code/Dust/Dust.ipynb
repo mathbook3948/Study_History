{
 "cells": [
  {
   "cell_type": "code",
   "id": "initial_id",
   "metadata": {
    "collapsed": true,
    "ExecuteTime": {
     "end_time": "2025-01-09T08:20:55.639966Z",
     "start_time": "2025-01-09T08:20:34.138703Z"
    }
   },
   "source": "import pandas as pd",
   "outputs": [],
   "execution_count": 1
  },
  {
   "metadata": {
    "ExecuteTime": {
     "end_time": "2025-01-09T08:20:56.792821Z",
     "start_time": "2025-01-09T08:20:55.653787Z"
    }
   },
   "cell_type": "code",
   "source": [
    "df1 = pd.read_csv('./dataset/1.csv',\n",
    "                 encoding='EUC-KR')\n",
    "df2 = pd.read_csv('./dataset/2.csv',\n",
    "                 encoding='EUC-KR')\n",
    "df3 = pd.read_csv('./dataset/3.csv',\n",
    "                 encoding='EUC-KR')\n",
    "df4 = pd.read_csv('./dataset/4.csv',\n",
    "                 encoding='EUC-KR')\n",
    "df5 = pd.read_csv('./dataset/5.csv',\n",
    "                 encoding='EUC-KR')"
   ],
   "id": "65b612a6f0cc09ee",
   "outputs": [],
   "execution_count": 2
  },
  {
   "metadata": {
    "ExecuteTime": {
     "end_time": "2025-01-09T08:20:56.992995Z",
     "start_time": "2025-01-09T08:20:56.860434Z"
    }
   },
   "cell_type": "code",
   "source": [
    "print(df1[df1[\"구분\"] == \"평균\"].isnull().sum())\n",
    "print(\"\\n\")\n",
    "print(df2[df2[\"구분\"] == \"평균\"].isnull().sum())\n",
    "print(\"\\n\")\n",
    "print(df3[df3[\"구분\"] == \"평균\"].isnull().sum())\n",
    "print(\"\\n\")\n",
    "print(df4[df4[\"구분\"] == \"평균\"].isnull().sum())\n",
    "print(\"\\n\")\n",
    "print(df5[df5[\"구분\"] == \"평균\"].isnull().sum())"
   ],
   "id": "6d7a267287732def",
   "outputs": [
    {
     "name": "stdout",
     "output_type": "stream",
     "text": [
      "일시             0\n",
      "구분             0\n",
      "미세먼지(PM10)     0\n",
      "초미세먼지(PM25)    0\n",
      "dtype: int64\n",
      "\n",
      "\n",
      "일시             0\n",
      "구분             0\n",
      "미세먼지(PM10)     0\n",
      "초미세먼지(PM25)    0\n",
      "dtype: int64\n",
      "\n",
      "\n",
      "일시             0\n",
      "구분             0\n",
      "미세먼지(PM10)     0\n",
      "초미세먼지(PM25)    0\n",
      "dtype: int64\n",
      "\n",
      "\n",
      "일시             0\n",
      "구분             0\n",
      "미세먼지(PM10)     0\n",
      "초미세먼지(PM25)    0\n",
      "dtype: int64\n",
      "\n",
      "\n",
      "일시              0\n",
      "구분              0\n",
      "미세먼지(PM10)      0\n",
      "초미세먼지(PM2.5)    0\n",
      "dtype: int64\n"
     ]
    }
   ],
   "execution_count": 3
  },
  {
   "metadata": {
    "ExecuteTime": {
     "end_time": "2025-01-09T03:55:59.932716Z",
     "start_time": "2025-01-09T03:55:59.930567Z"
    }
   },
   "cell_type": "code",
   "source": "",
   "id": "1229330adfc3bf53",
   "outputs": [],
   "execution_count": null
  },
  {
   "metadata": {},
   "cell_type": "code",
   "outputs": [],
   "execution_count": null,
   "source": "",
   "id": "6d0f0c03e65789a3"
  }
 ],
 "metadata": {
  "kernelspec": {
   "display_name": "Python 3",
   "language": "python",
   "name": "python3"
  },
  "language_info": {
   "codemirror_mode": {
    "name": "ipython",
    "version": 2
   },
   "file_extension": ".py",
   "mimetype": "text/x-python",
   "name": "python",
   "nbconvert_exporter": "python",
   "pygments_lexer": "ipython2",
   "version": "2.7.6"
  }
 },
 "nbformat": 4,
 "nbformat_minor": 5
}
